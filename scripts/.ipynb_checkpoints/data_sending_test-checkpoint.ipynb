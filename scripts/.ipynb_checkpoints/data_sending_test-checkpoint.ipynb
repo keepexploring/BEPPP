{
 "cells": [
  {
   "cell_type": "code",
   "execution_count": null,
   "id": "a3202a8e-3e46-485b-a2fc-3aadaf6d84f1",
   "metadata": {},
   "outputs": [],
   "source": []
  }
 ],
 "metadata": {
  "kernelspec": {
   "display_name": "Python 3 (ipykernel)",
   "language": "python",
   "name": "python3"
  },
  "language_info": {
   "codemirror_mode": {
    "name": "ipython",
    "version": 3
   },
   "file_extension": ".py",
   "mimetype": "text/x-python",
   "name": "python",
   "nbconvert_exporter": "python",
   "pygments_lexer": "ipython3",
   "version": "3.12.10"
  }
 },
 "nbformat": 4,
 "nbformat_minor": 5
}
